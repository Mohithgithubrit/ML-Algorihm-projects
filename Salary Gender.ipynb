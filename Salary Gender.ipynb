{
  "nbformat": 4,
  "nbformat_minor": 0,
  "metadata": {
    "colab": {
      "name": "Module4casestudy1",
      "provenance": [],
      "collapsed_sections": []
    },
    "kernelspec": {
      "name": "python3",
      "display_name": "Python 3"
    },
    "language_info": {
      "name": "python"
    }
  },
  "cells": [
    {
      "cell_type": "code",
      "metadata": {
        "id": "5DU7r4qLgd1F"
      },
      "source": [
        "import numpy as np\n",
        "import pandas as pd\n"
      ],
      "execution_count": null,
      "outputs": []
    },
    {
      "cell_type": "code",
      "metadata": {
        "colab": {
          "base_uri": "https://localhost:8080/",
          "height": 422
        },
        "id": "VmnlqXS2yYdx",
        "outputId": "09472950-b6fd-43fa-9cfe-e7fda47302a0"
      },
      "source": [
        "df = pd.read_csv('/content/SalaryGender.csv')\n",
        "df"
      ],
      "execution_count": null,
      "outputs": [
        {
          "output_type": "execute_result",
          "data": {
            "text/html": [
              "<div>\n",
              "<style scoped>\n",
              "    .dataframe tbody tr th:only-of-type {\n",
              "        vertical-align: middle;\n",
              "    }\n",
              "\n",
              "    .dataframe tbody tr th {\n",
              "        vertical-align: top;\n",
              "    }\n",
              "\n",
              "    .dataframe thead th {\n",
              "        text-align: right;\n",
              "    }\n",
              "</style>\n",
              "<table border=\"1\" class=\"dataframe\">\n",
              "  <thead>\n",
              "    <tr style=\"text-align: right;\">\n",
              "      <th></th>\n",
              "      <th>Salary</th>\n",
              "      <th>Gender</th>\n",
              "      <th>Age</th>\n",
              "      <th>PhD</th>\n",
              "    </tr>\n",
              "  </thead>\n",
              "  <tbody>\n",
              "    <tr>\n",
              "      <th>0</th>\n",
              "      <td>140.0</td>\n",
              "      <td>1</td>\n",
              "      <td>47</td>\n",
              "      <td>1</td>\n",
              "    </tr>\n",
              "    <tr>\n",
              "      <th>1</th>\n",
              "      <td>30.0</td>\n",
              "      <td>0</td>\n",
              "      <td>65</td>\n",
              "      <td>1</td>\n",
              "    </tr>\n",
              "    <tr>\n",
              "      <th>2</th>\n",
              "      <td>35.1</td>\n",
              "      <td>0</td>\n",
              "      <td>56</td>\n",
              "      <td>0</td>\n",
              "    </tr>\n",
              "    <tr>\n",
              "      <th>3</th>\n",
              "      <td>30.0</td>\n",
              "      <td>1</td>\n",
              "      <td>23</td>\n",
              "      <td>0</td>\n",
              "    </tr>\n",
              "    <tr>\n",
              "      <th>4</th>\n",
              "      <td>80.0</td>\n",
              "      <td>0</td>\n",
              "      <td>53</td>\n",
              "      <td>1</td>\n",
              "    </tr>\n",
              "    <tr>\n",
              "      <th>...</th>\n",
              "      <td>...</td>\n",
              "      <td>...</td>\n",
              "      <td>...</td>\n",
              "      <td>...</td>\n",
              "    </tr>\n",
              "    <tr>\n",
              "      <th>95</th>\n",
              "      <td>18.6</td>\n",
              "      <td>1</td>\n",
              "      <td>26</td>\n",
              "      <td>0</td>\n",
              "    </tr>\n",
              "    <tr>\n",
              "      <th>96</th>\n",
              "      <td>152.0</td>\n",
              "      <td>1</td>\n",
              "      <td>56</td>\n",
              "      <td>1</td>\n",
              "    </tr>\n",
              "    <tr>\n",
              "      <th>97</th>\n",
              "      <td>1.8</td>\n",
              "      <td>1</td>\n",
              "      <td>28</td>\n",
              "      <td>0</td>\n",
              "    </tr>\n",
              "    <tr>\n",
              "      <th>98</th>\n",
              "      <td>35.0</td>\n",
              "      <td>0</td>\n",
              "      <td>44</td>\n",
              "      <td>0</td>\n",
              "    </tr>\n",
              "    <tr>\n",
              "      <th>99</th>\n",
              "      <td>4.0</td>\n",
              "      <td>0</td>\n",
              "      <td>24</td>\n",
              "      <td>0</td>\n",
              "    </tr>\n",
              "  </tbody>\n",
              "</table>\n",
              "<p>100 rows × 4 columns</p>\n",
              "</div>"
            ],
            "text/plain": [
              "    Salary  Gender  Age  PhD\n",
              "0    140.0       1   47    1\n",
              "1     30.0       0   65    1\n",
              "2     35.1       0   56    0\n",
              "3     30.0       1   23    0\n",
              "4     80.0       0   53    1\n",
              "..     ...     ...  ...  ...\n",
              "95    18.6       1   26    0\n",
              "96   152.0       1   56    1\n",
              "97     1.8       1   28    0\n",
              "98    35.0       0   44    0\n",
              "99     4.0       0   24    0\n",
              "\n",
              "[100 rows x 4 columns]"
            ]
          },
          "metadata": {
            "tags": []
          },
          "execution_count": 3
        }
      ]
    },
    {
      "cell_type": "code",
      "metadata": {
        "colab": {
          "base_uri": "https://localhost:8080/"
        },
        "id": "EnaqrV_mzEtt",
        "outputId": "d4371c47-6714-4daa-d3db-8ea45a31ed2c"
      },
      "source": [
        "x = df.iloc[:,[0,1,2,3]].values\n",
        "x"
      ],
      "execution_count": null,
      "outputs": [
        {
          "output_type": "execute_result",
          "data": {
            "text/plain": [
              "array([[140.  ,   1.  ,  47.  ,   1.  ],\n",
              "       [ 30.  ,   0.  ,  65.  ,   1.  ],\n",
              "       [ 35.1 ,   0.  ,  56.  ,   0.  ],\n",
              "       [ 30.  ,   1.  ,  23.  ,   0.  ],\n",
              "       [ 80.  ,   0.  ,  53.  ,   1.  ],\n",
              "       [ 30.  ,   0.  ,  27.  ,   0.  ],\n",
              "       [ 60.  ,   1.  ,  53.  ,   0.  ],\n",
              "       [ 31.1 ,   0.  ,  30.  ,   0.  ],\n",
              "       [125.  ,   1.  ,  44.  ,   1.  ],\n",
              "       [ 51.  ,   1.  ,  63.  ,   1.  ],\n",
              "       [  3.  ,   1.  ,  22.  ,   0.  ],\n",
              "       [ 46.  ,   1.  ,  59.  ,   0.  ],\n",
              "       [150.  ,   1.  ,  60.  ,   1.  ],\n",
              "       [  3.  ,   1.  ,  28.  ,   0.  ],\n",
              "       [130.  ,   1.  ,  65.  ,   0.  ],\n",
              "       [ 15.  ,   0.  ,  25.  ,   0.  ],\n",
              "       [130.  ,   1.  ,  65.  ,   0.  ],\n",
              "       [ 84.  ,   0.  ,  47.  ,   1.  ],\n",
              "       [190.  ,   1.  ,  66.  ,   1.  ],\n",
              "       [ 74.  ,   1.  ,  45.  ,   1.  ],\n",
              "       [ 73.  ,   0.  ,  46.  ,   0.  ],\n",
              "       [ 10.  ,   0.  ,  24.  ,   0.  ],\n",
              "       [ 50.  ,   0.  ,  60.  ,   0.  ],\n",
              "       [  7.  ,   0.  ,  63.  ,   0.  ],\n",
              "       [  9.5 ,   0.  ,  27.  ,   0.  ],\n",
              "       [ 15.2 ,   1.  ,  66.  ,   1.  ],\n",
              "       [ 28.6 ,   1.  ,  36.  ,   1.  ],\n",
              "       [ 20.  ,   0.  ,  30.  ,   0.  ],\n",
              "       [ 72.  ,   0.  ,  51.  ,   1.  ],\n",
              "       [ 81.  ,   1.  ,  65.  ,   1.  ],\n",
              "       [100.  ,   0.  ,  45.  ,   1.  ],\n",
              "       [ 90.  ,   0.  ,  52.  ,   1.  ],\n",
              "       [ 90.  ,   0.  ,  54.  ,   1.  ],\n",
              "       [ 35.  ,   1.  ,  30.  ,   0.  ],\n",
              "       [ 30.  ,   0.  ,  52.  ,   0.  ],\n",
              "       [ 25.  ,   1.  ,  26.  ,   0.  ],\n",
              "       [ 52.  ,   0.  ,  49.  ,   0.  ],\n",
              "       [  9.  ,   0.  ,  22.  ,   0.  ],\n",
              "       [ 63.  ,   1.  ,  34.  ,   1.  ],\n",
              "       [ 72.  ,   1.  ,  60.  ,   0.  ],\n",
              "       [ 16.  ,   1.  ,  28.  ,   0.  ],\n",
              "       [ 92.  ,   0.  ,  58.  ,   1.  ],\n",
              "       [106.  ,   1.  ,  77.  ,   1.  ],\n",
              "       [  2.5 ,   1.  ,  67.  ,   0.  ],\n",
              "       [  9.  ,   0.  ,  27.  ,   0.  ],\n",
              "       [ 32.  ,   0.  ,  48.  ,   1.  ],\n",
              "       [ 32.  ,   0.  ,  45.  ,   0.  ],\n",
              "       [ 55.  ,   1.  ,  49.  ,   1.  ],\n",
              "       [ 52.  ,   1.  ,  36.  ,   0.  ],\n",
              "       [ 28.  ,   0.  ,  65.  ,   1.  ],\n",
              "       [ 20.  ,   0.  ,  32.  ,   0.  ],\n",
              "       [ 14.7 ,   0.  ,  49.  ,   0.  ],\n",
              "       [ 22.3 ,   1.  ,  67.  ,   0.  ],\n",
              "       [ 34.8 ,   0.  ,  22.  ,   0.  ],\n",
              "       [ 84.  ,   0.  ,  49.  ,   1.  ],\n",
              "       [ 19.  ,   1.  ,  43.  ,   0.  ],\n",
              "       [160.  ,   1.  ,  61.  ,   1.  ],\n",
              "       [ 65.  ,   0.  ,  43.  ,   1.  ],\n",
              "       [ 55.  ,   0.  ,  52.  ,   0.  ],\n",
              "       [  4.6 ,   1.  ,  51.  ,   0.  ],\n",
              "       [102.  ,   1.  ,  66.  ,   1.  ],\n",
              "       [ 20.  ,   1.  ,  29.  ,   0.  ],\n",
              "       [ 62.  ,   0.  ,  62.  ,   0.  ],\n",
              "       [ 55.  ,   1.  ,  56.  ,   1.  ],\n",
              "       [ 45.6 ,   1.  ,  61.  ,   0.  ],\n",
              "       [ 40.  ,   0.  ,  56.  ,   0.  ],\n",
              "       [ 24.  ,   0.  ,  41.  ,   0.  ],\n",
              "       [ 35.  ,   1.  ,  24.  ,   0.  ],\n",
              "       [ 48.  ,   0.  ,  60.  ,   0.  ],\n",
              "       [ 20.  ,   0.  ,  43.  ,   0.  ],\n",
              "       [ 40.7 ,   0.  ,  57.  ,   0.  ],\n",
              "       [ 15.  ,   1.  ,  23.  ,   0.  ],\n",
              "       [  0.25,   0.  ,  53.  ,   0.  ],\n",
              "       [152.  ,   1.  ,  71.  ,   1.  ],\n",
              "       [ 39.8 ,   0.  ,  20.  ,   0.  ],\n",
              "       [ 12.  ,   0.  ,  27.  ,   0.  ],\n",
              "       [ 30.  ,   1.  ,  69.  ,   1.  ],\n",
              "       [120.  ,   1.  ,  58.  ,   1.  ],\n",
              "       [  1.7 ,   1.  ,  37.  ,   0.  ],\n",
              "       [ 36.  ,   1.  ,  32.  ,   1.  ],\n",
              "       [ 96.  ,   1.  ,  33.  ,   1.  ],\n",
              "       [ 38.  ,   0.  ,  32.  ,   1.  ],\n",
              "       [ 90.  ,   1.  ,  60.  ,   0.  ],\n",
              "       [  9.  ,   1.  ,  71.  ,   0.  ],\n",
              "       [ 25.8 ,   0.  ,  30.  ,   0.  ],\n",
              "       [ 22.  ,   0.  ,  62.  ,   0.  ],\n",
              "       [ 38.8 ,   0.  ,  54.  ,   0.  ],\n",
              "       [ 72.  ,   1.  ,  42.  ,   1.  ],\n",
              "       [ 89.  ,   1.  ,  62.  ,   0.  ],\n",
              "       [ 41.  ,   0.  ,  51.  ,   1.  ],\n",
              "       [ 89.  ,   1.  ,  71.  ,   1.  ],\n",
              "       [ 25.  ,   0.  ,  29.  ,   0.  ],\n",
              "       [ 52.  ,   1.  ,  55.  ,   1.  ],\n",
              "       [115.  ,   0.  ,  54.  ,   0.  ],\n",
              "       [ 66.  ,   0.  ,  55.  ,   1.  ],\n",
              "       [ 18.6 ,   1.  ,  26.  ,   0.  ],\n",
              "       [152.  ,   1.  ,  56.  ,   1.  ],\n",
              "       [  1.8 ,   1.  ,  28.  ,   0.  ],\n",
              "       [ 35.  ,   0.  ,  44.  ,   0.  ],\n",
              "       [  4.  ,   0.  ,  24.  ,   0.  ]])"
            ]
          },
          "metadata": {
            "tags": []
          },
          "execution_count": 3
        }
      ]
    },
    {
      "cell_type": "code",
      "metadata": {
        "colab": {
          "base_uri": "https://localhost:8080/"
        },
        "id": "WJYL1DkuD6KL",
        "outputId": "f48cff21-8b13-4461-a17e-2155e80eef2b"
      },
      "source": [
        "arr = np.arange(11)\n",
        "arr[4:9] = np.multiply(arr[4:9],-1)\n",
        "print(arr)"
      ],
      "execution_count": null,
      "outputs": [
        {
          "output_type": "stream",
          "text": [
            "[ 0  1  2  3 -4 -5 -6 -7 -8  9 10]\n"
          ],
          "name": "stdout"
        }
      ]
    },
    {
      "cell_type": "code",
      "metadata": {
        "colab": {
          "base_uri": "https://localhost:8080/"
        },
        "id": "mBT6nAeEEVBL",
        "outputId": "92343b32-1db7-4503-ba08-02de347f0461"
      },
      "source": [
        "arr = np.array(arr)\n",
        "print(arr[0].reshape((3,3)))"
      ],
      "execution_count": null,
      "outputs": [
        {
          "output_type": "stream",
          "text": [
            "[[0 1 2]\n",
            " [3 4 5]\n",
            " [6 7 8]]\n"
          ],
          "name": "stdout"
        }
      ]
    },
    {
      "cell_type": "code",
      "metadata": {
        "colab": {
          "base_uri": "https://localhost:8080/"
        },
        "id": "xq_qwFnbIGsa",
        "outputId": "78ba7127-7d07-43f2-ca6e-5462a1b5bef8"
      },
      "source": [
        "rand = np.random.RandomState(30)\n",
        "X = rand.randint(0, 30, (3, 3))\n",
        "print(X)\n",
        "np.sort(X, axis=0)"
      ],
      "execution_count": null,
      "outputs": [
        {
          "output_type": "stream",
          "text": [
            "[[ 5  5 13]\n",
            " [13 20 12]\n",
            " [23  2 21]]\n"
          ],
          "name": "stdout"
        },
        {
          "output_type": "execute_result",
          "data": {
            "text/plain": [
              "array([[ 5,  2, 12],\n",
              "       [13,  5, 13],\n",
              "       [23, 20, 21]])"
            ]
          },
          "metadata": {
            "tags": []
          },
          "execution_count": 25
        }
      ]
    },
    {
      "cell_type": "code",
      "metadata": {
        "colab": {
          "base_uri": "https://localhost:8080/"
        },
        "id": "fdEKOLp9N4j-",
        "outputId": "16a8b218-e9c4-4084-caa5-dd0f268b759e"
      },
      "source": [
        "arr = np.array([1, 2, 3, 4], ndmin=4)\n",
        "print(arr)\n",
        "print('number of dimensions :', arr.ndim)"
      ],
      "execution_count": null,
      "outputs": [
        {
          "output_type": "stream",
          "text": [
            "[[[[1 2 3 4]]]]\n",
            "number of dimensions : 4\n"
          ],
          "name": "stdout"
        }
      ]
    },
    {
      "cell_type": "code",
      "metadata": {
        "colab": {
          "base_uri": "https://localhost:8080/"
        },
        "id": "iZfjKhJe3kIR",
        "outputId": "87920981-c8a8-4a9c-9769-7a562fc65c3c"
      },
      "source": [
        "rand = np.random.RandomState(30)\n",
        "X = rand.randint(0, 30, (3, 3))\n",
        "print(X)\n",
        "X[[0,2]] = X[[2,0]]\n",
        "print(X)"
      ],
      "execution_count": null,
      "outputs": [
        {
          "output_type": "stream",
          "text": [
            "[[ 5  5 13]\n",
            " [13 20 12]\n",
            " [23  2 21]]\n",
            "[[23  2 21]\n",
            " [13 20 12]\n",
            " [ 5  5 13]]\n"
          ],
          "name": "stdout"
        }
      ]
    },
    {
      "cell_type": "code",
      "metadata": {
        "colab": {
          "base_uri": "https://localhost:8080/"
        },
        "id": "c85d2MuJ5fNj",
        "outputId": "2baf6dda-3e14-465e-8b83-de50f3942cdf"
      },
      "source": [
        "my_matrix = np.array([[1, 2, 1], [3, 4, 7], [3, 6, 3]])\n",
        "print(\"Matrix\")\n",
        "for row in my_matrix:\n",
        "    print(row)\n",
        "rank = np.linalg.matrix_rank(my_matrix)\n",
        "print(\"Rank of the given Matrix is : \",rank)"
      ],
      "execution_count": null,
      "outputs": [
        {
          "output_type": "stream",
          "text": [
            "Matrix\n",
            "[1 2 1]\n",
            "[3 4 7]\n",
            "[3 6 3]\n",
            "Rank of the given Matrix is :  2\n"
          ],
          "name": "stdout"
        }
      ]
    }
  ]
}