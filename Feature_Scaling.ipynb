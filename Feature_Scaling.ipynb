{
  "nbformat": 4,
  "nbformat_minor": 0,
  "metadata": {
    "colab": {
      "name": "Feature Scaling",
      "provenance": [],
      "collapsed_sections": []
    },
    "kernelspec": {
      "name": "python3",
      "display_name": "Python 3"
    },
    "language_info": {
      "name": "python"
    }
  },
  "cells": [
    {
      "cell_type": "code",
      "metadata": {
        "colab": {
          "base_uri": "https://localhost:8080/",
          "height": 228
        },
        "id": "vEkDHdUJjUw4",
        "outputId": "7f152c45-e491-4d88-b1b7-93a732cf852e"
      },
      "source": [
        "import pandas as pd \n",
        "import numpy as np\n",
        "data = {'name':['wqwe','etfeg','fver','gdgr','bghf','hhrth'],'Age':[21,32,21,34,23,22],'salary':['1000','2000','3000','4000','5000','6000'],'Gender':['m','f','f','m','f','m']}\n",
        "df = pd.DataFrame(data)\n",
        "df"
      ],
      "execution_count": null,
      "outputs": [
        {
          "output_type": "execute_result",
          "data": {
            "text/html": [
              "<div>\n",
              "<style scoped>\n",
              "    .dataframe tbody tr th:only-of-type {\n",
              "        vertical-align: middle;\n",
              "    }\n",
              "\n",
              "    .dataframe tbody tr th {\n",
              "        vertical-align: top;\n",
              "    }\n",
              "\n",
              "    .dataframe thead th {\n",
              "        text-align: right;\n",
              "    }\n",
              "</style>\n",
              "<table border=\"1\" class=\"dataframe\">\n",
              "  <thead>\n",
              "    <tr style=\"text-align: right;\">\n",
              "      <th></th>\n",
              "      <th>name</th>\n",
              "      <th>Age</th>\n",
              "      <th>salary</th>\n",
              "      <th>Gender</th>\n",
              "    </tr>\n",
              "  </thead>\n",
              "  <tbody>\n",
              "    <tr>\n",
              "      <th>0</th>\n",
              "      <td>wqwe</td>\n",
              "      <td>21</td>\n",
              "      <td>1000</td>\n",
              "      <td>m</td>\n",
              "    </tr>\n",
              "    <tr>\n",
              "      <th>1</th>\n",
              "      <td>etfeg</td>\n",
              "      <td>32</td>\n",
              "      <td>2000</td>\n",
              "      <td>f</td>\n",
              "    </tr>\n",
              "    <tr>\n",
              "      <th>2</th>\n",
              "      <td>fver</td>\n",
              "      <td>21</td>\n",
              "      <td>3000</td>\n",
              "      <td>f</td>\n",
              "    </tr>\n",
              "    <tr>\n",
              "      <th>3</th>\n",
              "      <td>gdgr</td>\n",
              "      <td>34</td>\n",
              "      <td>4000</td>\n",
              "      <td>m</td>\n",
              "    </tr>\n",
              "    <tr>\n",
              "      <th>4</th>\n",
              "      <td>bghf</td>\n",
              "      <td>23</td>\n",
              "      <td>5000</td>\n",
              "      <td>f</td>\n",
              "    </tr>\n",
              "    <tr>\n",
              "      <th>5</th>\n",
              "      <td>hhrth</td>\n",
              "      <td>22</td>\n",
              "      <td>6000</td>\n",
              "      <td>m</td>\n",
              "    </tr>\n",
              "  </tbody>\n",
              "</table>\n",
              "</div>"
            ],
            "text/plain": [
              "    name  Age salary Gender\n",
              "0   wqwe   21   1000      m\n",
              "1  etfeg   32   2000      f\n",
              "2   fver   21   3000      f\n",
              "3   gdgr   34   4000      m\n",
              "4   bghf   23   5000      f\n",
              "5  hhrth   22   6000      m"
            ]
          },
          "metadata": {
            "tags": []
          },
          "execution_count": 1
        }
      ]
    },
    {
      "cell_type": "code",
      "metadata": {
        "colab": {
          "base_uri": "https://localhost:8080/"
        },
        "id": "e0pjziPsl_40",
        "outputId": "d66b7884-b6e8-4606-819d-2f59c145c0a5"
      },
      "source": [
        "from sklearn.preprocessing import StandardScaler\n",
        "ss = StandardScaler()\n",
        "ff = df.iloc[:,1:3].values\n",
        "final = ss.fit_transform(ff)\n",
        "final"
      ],
      "execution_count": null,
      "outputs": [
        {
          "output_type": "execute_result",
          "data": {
            "text/plain": [
              "array([[-0.83683223, -1.46385011],\n",
              "       [ 1.20875767, -0.87831007],\n",
              "       [-0.83683223, -0.29277002],\n",
              "       [ 1.5806831 ,  0.29277002],\n",
              "       [-0.4649068 ,  0.87831007],\n",
              "       [-0.65086951,  1.46385011]])"
            ]
          },
          "metadata": {
            "tags": []
          },
          "execution_count": 6
        }
      ]
    },
    {
      "cell_type": "code",
      "metadata": {
        "colab": {
          "base_uri": "https://localhost:8080/"
        },
        "id": "iJ9MsQlnoJVu",
        "outputId": "cba3176e-2d1f-42ca-fb8d-fd4a063e567f"
      },
      "source": [
        "from sklearn.preprocessing import MinMaxScaler\n",
        "ss = MinMaxScaler()\n",
        "ff = df.iloc[:,1:3].values\n",
        "final = ss.fit_transform(ff)\n",
        "final"
      ],
      "execution_count": null,
      "outputs": [
        {
          "output_type": "execute_result",
          "data": {
            "text/plain": [
              "array([[0.        , 0.        ],\n",
              "       [0.84615385, 0.2       ],\n",
              "       [0.        , 0.4       ],\n",
              "       [1.        , 0.6       ],\n",
              "       [0.15384615, 0.8       ],\n",
              "       [0.07692308, 1.        ]])"
            ]
          },
          "metadata": {
            "tags": []
          },
          "execution_count": 7
        }
      ]
    },
    {
      "cell_type": "code",
      "metadata": {
        "colab": {
          "base_uri": "https://localhost:8080/"
        },
        "id": "o8qPc-hGpRs-",
        "outputId": "26231297-8b09-46b2-95b8-361828d35102"
      },
      "source": [
        "from sklearn.preprocessing import RobustScaler\n",
        "ss = RobustScaler()\n",
        "ff = df.iloc[:,1:3].values\n",
        "final = ss.fit_transform(ff)\n",
        "final"
      ],
      "execution_count": null,
      "outputs": [
        {
          "output_type": "execute_result",
          "data": {
            "text/plain": [
              "array([[-0.17647059, -1.        ],\n",
              "       [ 1.11764706, -0.6       ],\n",
              "       [-0.17647059, -0.2       ],\n",
              "       [ 1.35294118,  0.2       ],\n",
              "       [ 0.05882353,  0.6       ],\n",
              "       [-0.05882353,  1.        ]])"
            ]
          },
          "metadata": {
            "tags": []
          },
          "execution_count": 8
        }
      ]
    },
    {
      "cell_type": "code",
      "metadata": {
        "colab": {
          "base_uri": "https://localhost:8080/"
        },
        "id": "j3zXIj-Kpwpa",
        "outputId": "5a4f4eba-7c60-4451-e87e-6f4e59da7b09"
      },
      "source": [
        "from sklearn.preprocessing import MaxAbsScaler\n",
        "ss = MaxAbsScaler()\n",
        "ff = df.iloc[:,1:3].values\n",
        "final = ss.fit_transform(ff)\n",
        "final"
      ],
      "execution_count": null,
      "outputs": [
        {
          "output_type": "execute_result",
          "data": {
            "text/plain": [
              "array([[0.61764706, 0.16666667],\n",
              "       [0.94117647, 0.33333333],\n",
              "       [0.61764706, 0.5       ],\n",
              "       [1.        , 0.66666667],\n",
              "       [0.67647059, 0.83333333],\n",
              "       [0.64705882, 1.        ]])"
            ]
          },
          "metadata": {
            "tags": []
          },
          "execution_count": 10
        }
      ]
    }
  ]
}