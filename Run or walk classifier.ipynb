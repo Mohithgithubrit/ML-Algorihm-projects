{
  "nbformat": 4,
  "nbformat_minor": 0,
  "metadata": {
    "colab": {
      "name": "Module9Casestudy2",
      "provenance": [],
      "collapsed_sections": []
    },
    "kernelspec": {
      "name": "python3",
      "display_name": "Python 3"
    },
    "language_info": {
      "name": "python"
    }
  },
  "cells": [
    {
      "cell_type": "code",
      "metadata": {
        "id": "IoamhICdcbVQ"
      },
      "source": [
        "import numpy as np\n",
        "import pandas as pd\n",
        "import matplotlib.pyplot as plt"
      ],
      "execution_count": null,
      "outputs": []
    },
    {
      "cell_type": "code",
      "metadata": {
        "colab": {
          "base_uri": "https://localhost:8080/",
          "height": 424
        },
        "id": "8GVkKCQmc2ac",
        "outputId": "af0f0d84-1d62-42d7-8d82-d7d1ba357bc1"
      },
      "source": [
        "data = pd.read_csv(\"/content/run_or_walk.csv\")\n",
        "data"
      ],
      "execution_count": null,
      "outputs": [
        {
          "output_type": "execute_result",
          "data": {
            "text/html": [
              "<div>\n",
              "<style scoped>\n",
              "    .dataframe tbody tr th:only-of-type {\n",
              "        vertical-align: middle;\n",
              "    }\n",
              "\n",
              "    .dataframe tbody tr th {\n",
              "        vertical-align: top;\n",
              "    }\n",
              "\n",
              "    .dataframe thead th {\n",
              "        text-align: right;\n",
              "    }\n",
              "</style>\n",
              "<table border=\"1\" class=\"dataframe\">\n",
              "  <thead>\n",
              "    <tr style=\"text-align: right;\">\n",
              "      <th></th>\n",
              "      <th>date</th>\n",
              "      <th>time</th>\n",
              "      <th>username</th>\n",
              "      <th>wrist</th>\n",
              "      <th>activity</th>\n",
              "      <th>acceleration_x</th>\n",
              "      <th>acceleration_y</th>\n",
              "      <th>acceleration_z</th>\n",
              "      <th>gyro_x</th>\n",
              "      <th>gyro_y</th>\n",
              "      <th>gyro_z</th>\n",
              "    </tr>\n",
              "  </thead>\n",
              "  <tbody>\n",
              "    <tr>\n",
              "      <th>0</th>\n",
              "      <td>2017-6-30</td>\n",
              "      <td>13:51:15:847724020</td>\n",
              "      <td>viktor</td>\n",
              "      <td>0</td>\n",
              "      <td>0</td>\n",
              "      <td>0.2650</td>\n",
              "      <td>-0.7814</td>\n",
              "      <td>-0.0076</td>\n",
              "      <td>-0.0590</td>\n",
              "      <td>0.0325</td>\n",
              "      <td>-2.9296</td>\n",
              "    </tr>\n",
              "    <tr>\n",
              "      <th>1</th>\n",
              "      <td>2017-6-30</td>\n",
              "      <td>13:51:16:246945023</td>\n",
              "      <td>viktor</td>\n",
              "      <td>0</td>\n",
              "      <td>0</td>\n",
              "      <td>0.6722</td>\n",
              "      <td>-1.1233</td>\n",
              "      <td>-0.2344</td>\n",
              "      <td>-0.1757</td>\n",
              "      <td>0.0208</td>\n",
              "      <td>0.1269</td>\n",
              "    </tr>\n",
              "    <tr>\n",
              "      <th>2</th>\n",
              "      <td>2017-6-30</td>\n",
              "      <td>13:51:16:446233987</td>\n",
              "      <td>viktor</td>\n",
              "      <td>0</td>\n",
              "      <td>0</td>\n",
              "      <td>0.4399</td>\n",
              "      <td>-1.4817</td>\n",
              "      <td>0.0722</td>\n",
              "      <td>-0.9105</td>\n",
              "      <td>0.1063</td>\n",
              "      <td>-2.4367</td>\n",
              "    </tr>\n",
              "    <tr>\n",
              "      <th>3</th>\n",
              "      <td>2017-6-30</td>\n",
              "      <td>13:51:16:646117985</td>\n",
              "      <td>viktor</td>\n",
              "      <td>0</td>\n",
              "      <td>0</td>\n",
              "      <td>0.3031</td>\n",
              "      <td>-0.8125</td>\n",
              "      <td>0.0888</td>\n",
              "      <td>0.1199</td>\n",
              "      <td>-0.4099</td>\n",
              "      <td>-2.9336</td>\n",
              "    </tr>\n",
              "    <tr>\n",
              "      <th>4</th>\n",
              "      <td>2017-6-30</td>\n",
              "      <td>13:51:16:846738994</td>\n",
              "      <td>viktor</td>\n",
              "      <td>0</td>\n",
              "      <td>0</td>\n",
              "      <td>0.4814</td>\n",
              "      <td>-0.9312</td>\n",
              "      <td>0.0359</td>\n",
              "      <td>0.0527</td>\n",
              "      <td>0.4379</td>\n",
              "      <td>2.4922</td>\n",
              "    </tr>\n",
              "    <tr>\n",
              "      <th>...</th>\n",
              "      <td>...</td>\n",
              "      <td>...</td>\n",
              "      <td>...</td>\n",
              "      <td>...</td>\n",
              "      <td>...</td>\n",
              "      <td>...</td>\n",
              "      <td>...</td>\n",
              "      <td>...</td>\n",
              "      <td>...</td>\n",
              "      <td>...</td>\n",
              "      <td>...</td>\n",
              "    </tr>\n",
              "    <tr>\n",
              "      <th>88583</th>\n",
              "      <td>2017-7-9</td>\n",
              "      <td>20:9:15:317911028</td>\n",
              "      <td>viktor</td>\n",
              "      <td>0</td>\n",
              "      <td>0</td>\n",
              "      <td>0.3084</td>\n",
              "      <td>-0.8376</td>\n",
              "      <td>-0.1327</td>\n",
              "      <td>0.4823</td>\n",
              "      <td>2.0124</td>\n",
              "      <td>0.6048</td>\n",
              "    </tr>\n",
              "    <tr>\n",
              "      <th>88584</th>\n",
              "      <td>2017-7-9</td>\n",
              "      <td>20:9:15:517889022</td>\n",
              "      <td>viktor</td>\n",
              "      <td>0</td>\n",
              "      <td>0</td>\n",
              "      <td>0.4977</td>\n",
              "      <td>-1.0027</td>\n",
              "      <td>-0.4397</td>\n",
              "      <td>0.1022</td>\n",
              "      <td>-1.2565</td>\n",
              "      <td>-0.0761</td>\n",
              "    </tr>\n",
              "    <tr>\n",
              "      <th>88585</th>\n",
              "      <td>2017-7-9</td>\n",
              "      <td>20:9:15:717828989</td>\n",
              "      <td>viktor</td>\n",
              "      <td>0</td>\n",
              "      <td>0</td>\n",
              "      <td>0.4587</td>\n",
              "      <td>-1.1780</td>\n",
              "      <td>-0.2827</td>\n",
              "      <td>-1.4500</td>\n",
              "      <td>-0.2792</td>\n",
              "      <td>-1.2616</td>\n",
              "    </tr>\n",
              "    <tr>\n",
              "      <th>88586</th>\n",
              "      <td>2017-7-9</td>\n",
              "      <td>20:9:15:917932987</td>\n",
              "      <td>viktor</td>\n",
              "      <td>0</td>\n",
              "      <td>0</td>\n",
              "      <td>0.2590</td>\n",
              "      <td>-0.8582</td>\n",
              "      <td>-0.0759</td>\n",
              "      <td>-1.5165</td>\n",
              "      <td>0.4560</td>\n",
              "      <td>-1.7755</td>\n",
              "    </tr>\n",
              "    <tr>\n",
              "      <th>88587</th>\n",
              "      <td>2017-7-9</td>\n",
              "      <td>20:9:16:117410004</td>\n",
              "      <td>viktor</td>\n",
              "      <td>0</td>\n",
              "      <td>0</td>\n",
              "      <td>0.3140</td>\n",
              "      <td>-0.8008</td>\n",
              "      <td>-0.0911</td>\n",
              "      <td>0.1183</td>\n",
              "      <td>1.0850</td>\n",
              "      <td>1.2814</td>\n",
              "    </tr>\n",
              "  </tbody>\n",
              "</table>\n",
              "<p>88588 rows × 11 columns</p>\n",
              "</div>"
            ],
            "text/plain": [
              "            date                time username  ...  gyro_x  gyro_y  gyro_z\n",
              "0      2017-6-30  13:51:15:847724020   viktor  ... -0.0590  0.0325 -2.9296\n",
              "1      2017-6-30  13:51:16:246945023   viktor  ... -0.1757  0.0208  0.1269\n",
              "2      2017-6-30  13:51:16:446233987   viktor  ... -0.9105  0.1063 -2.4367\n",
              "3      2017-6-30  13:51:16:646117985   viktor  ...  0.1199 -0.4099 -2.9336\n",
              "4      2017-6-30  13:51:16:846738994   viktor  ...  0.0527  0.4379  2.4922\n",
              "...          ...                 ...      ...  ...     ...     ...     ...\n",
              "88583   2017-7-9   20:9:15:317911028   viktor  ...  0.4823  2.0124  0.6048\n",
              "88584   2017-7-9   20:9:15:517889022   viktor  ...  0.1022 -1.2565 -0.0761\n",
              "88585   2017-7-9   20:9:15:717828989   viktor  ... -1.4500 -0.2792 -1.2616\n",
              "88586   2017-7-9   20:9:15:917932987   viktor  ... -1.5165  0.4560 -1.7755\n",
              "88587   2017-7-9   20:9:16:117410004   viktor  ...  0.1183  1.0850  1.2814\n",
              "\n",
              "[88588 rows x 11 columns]"
            ]
          },
          "metadata": {},
          "execution_count": 4
        }
      ]
    },
    {
      "cell_type": "code",
      "metadata": {
        "colab": {
          "base_uri": "https://localhost:8080/"
        },
        "id": "Lps31rk1dNAE",
        "outputId": "277e0254-9c20-4dd6-e9eb-57306f823cd3"
      },
      "source": [
        "data.columns"
      ],
      "execution_count": null,
      "outputs": [
        {
          "output_type": "execute_result",
          "data": {
            "text/plain": [
              "Index(['date', 'time', 'username', 'wrist', 'activity', 'acceleration_x',\n",
              "       'acceleration_y', 'acceleration_z', 'gyro_x', 'gyro_y', 'gyro_z'],\n",
              "      dtype='object')"
            ]
          },
          "metadata": {},
          "execution_count": 5
        }
      ]
    },
    {
      "cell_type": "code",
      "metadata": {
        "id": "ESGj8TlYdle4"
      },
      "source": [
        "X = data.iloc[:, 5:]\n",
        "Y = data[\"activity\"]\n"
      ],
      "execution_count": null,
      "outputs": []
    },
    {
      "cell_type": "code",
      "metadata": {
        "colab": {
          "base_uri": "https://localhost:8080/"
        },
        "id": "oOhDQle_ijI1",
        "outputId": "a5c6dd19-c97e-4e57-8685-15c3903dd445"
      },
      "source": [
        "from sklearn import metrics\n",
        "from sklearn.model_selection import train_test_split\n",
        "from sklearn.naive_bayes import GaussianNB\n",
        "train_x, test_x, train_y, test_y = train_test_split(X, Y, random_state=10, test_size=0.20)\n",
        "g_model = GaussianNB()\n",
        "g_model.fit(train_x, train_y)\n",
        "predicted_values = g_model.predict(test_x)\n",
        "print(\"\\nAccuracy Score\\n\")\n",
        "print(metrics.accuracy_score(predicted_values, test_y))\n",
        "print(\"\\nClassification Score\\n\")\n",
        "print(metrics.classification_report(predicted_values, test_y))"
      ],
      "execution_count": null,
      "outputs": [
        {
          "output_type": "stream",
          "name": "stdout",
          "text": [
            "\n",
            "Accuracy Score\n",
            "\n",
            "0.958008804605486\n",
            "\n",
            "Classification Score\n",
            "\n",
            "              precision    recall  f1-score   support\n",
            "\n",
            "           0       0.99      0.93      0.96      9360\n",
            "           1       0.93      0.99      0.96      8358\n",
            "\n",
            "    accuracy                           0.96     17718\n",
            "   macro avg       0.96      0.96      0.96     17718\n",
            "weighted avg       0.96      0.96      0.96     17718\n",
            "\n"
          ]
        }
      ]
    },
    {
      "cell_type": "code",
      "metadata": {
        "colab": {
          "base_uri": "https://localhost:8080/"
        },
        "id": "pzF_nJyti1kU",
        "outputId": "d4d46e53-58e1-4e26-d7e4-0beb07ef06c2"
      },
      "source": [
        "X_A = data.iloc[:, 5:8]\n",
        "Y_A = data[\"activity\"]\n",
        "train_x_a, test_x_a, train_y_a, test_y_a = train_test_split(X_A, Y_A, random_state=10, test_size=0.30)\n",
        "g_model.fit(train_x_a, train_y_a)\n",
        "predicted_values_a = g_model.predict(test_x_a)\n",
        "print(\"\\nAccuracy Score\\n\")\n",
        "print(metrics.accuracy_score(predicted_values_a, test_y_a))\n",
        "print(\"\\nClassification Score\\n\")\n",
        "print(metrics.classification_report(predicted_values_a, test_y_a))\n",
        "\n",
        "# Gyro as Independent variables\n",
        "X_G = data.iloc[:, 8:]\n",
        "Y_G = data[\"activity\"]\n",
        "train_x_g, test_x_g, train_y_g, test_y_g = train_test_split(X_G, Y_G, random_state=10, test_size=0.30)\n",
        "g_model.fit(train_x_g, train_y_g)\n",
        "predicted_values_g = g_model.predict(test_x_g)\n",
        "print(\"\\nAccuracy Score\\n\")\n",
        "print(metrics.accuracy_score(predicted_values_g, test_y_g))\n",
        "print(\"\\nClassification Score\\n\")\n",
        "print(metrics.classification_report(predicted_values_g, test_y_g))"
      ],
      "execution_count": null,
      "outputs": [
        {
          "output_type": "stream",
          "name": "stdout",
          "text": [
            "\n",
            "Accuracy Score\n",
            "\n",
            "0.958648455431388\n",
            "\n",
            "Classification Score\n",
            "\n",
            "              precision    recall  f1-score   support\n",
            "\n",
            "           0       0.99      0.93      0.96     14158\n",
            "           1       0.92      0.99      0.96     12419\n",
            "\n",
            "    accuracy                           0.96     26577\n",
            "   macro avg       0.96      0.96      0.96     26577\n",
            "weighted avg       0.96      0.96      0.96     26577\n",
            "\n",
            "\n",
            "Accuracy Score\n",
            "\n",
            "0.6486811905030666\n",
            "\n",
            "Classification Score\n",
            "\n",
            "              precision    recall  f1-score   support\n",
            "\n",
            "           0       0.74      0.62      0.68     15810\n",
            "           1       0.55      0.69      0.61     10767\n",
            "\n",
            "    accuracy                           0.65     26577\n",
            "   macro avg       0.65      0.65      0.65     26577\n",
            "weighted avg       0.67      0.65      0.65     26577\n",
            "\n"
          ]
        }
      ]
    }
  ]
}